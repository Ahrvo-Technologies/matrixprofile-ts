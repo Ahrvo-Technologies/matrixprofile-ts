{
 "cells": [
  {
   "cell_type": "markdown",
   "metadata": {},
   "source": [
    "# Overview"
   ]
  },
  {
   "cell_type": "markdown",
   "metadata": {},
   "source": [
    "This notebook demonstrates how to calculate and update the Matrix Profile for a sample dataset (this is the same example signal used in https://github.com/aouyang1/go-matrixprofile)"
   ]
  },
  {
   "cell_type": "markdown",
   "metadata": {},
   "source": [
    "# Load Libraries"
   ]
  },
  {
   "cell_type": "code",
   "execution_count": null,
   "metadata": {},
   "outputs": [],
   "source": [
    "from matrixprofile import *\n",
    "import numpy as np\n",
    "import pandas as pd\n",
    "import matplotlib.pyplot as plt\n",
    "import seaborn as sns\n",
    "%matplotlib inline"
   ]
  },
  {
   "cell_type": "markdown",
   "metadata": {},
   "source": [
    "# Load and visualize sample data"
   ]
  },
  {
   "cell_type": "code",
   "execution_count": null,
   "metadata": {},
   "outputs": [],
   "source": [
    "import os\n",
    "os.getcwd()"
   ]
  },
  {
   "cell_type": "code",
   "execution_count": null,
   "metadata": {},
   "outputs": [],
   "source": [
    "data = pd.read_csv('docs\\\\examples\\\\rawdata.csv')\n",
    "pattern = data.data.values\n",
    "\n",
    "#Plot data\n",
    "fig, ax1 = plt.subplots(figsize=(20,10))\n",
    "ax1.plot(np.arange(len(pattern)),pattern, label=\"Synthetic Data\")\n",
    "legend = ax1.legend(loc='upper right')"
   ]
  },
  {
   "cell_type": "markdown",
   "metadata": {},
   "source": [
    "# Calculate the Matrix Profile"
   ]
  },
  {
   "cell_type": "code",
   "execution_count": null,
   "metadata": {},
   "outputs": [],
   "source": [
    "m = 32\n",
    "mp = matrixProfile.stomp(pattern,m)\n",
    "cac = fluss.fluss(mp[1], m)"
   ]
  },
  {
   "cell_type": "code",
   "execution_count": null,
   "metadata": {},
   "outputs": [],
   "source": [
    "#Append np.nan to Matrix profile to enable plotting against raw data\n",
    "mp_adj = np.append(mp[0],np.zeros(m-1)+np.nan)\n",
    "\n",
    "#Plot the signal data\n",
    "fig, (ax1, ax2, ax3) = plt.subplots(3,1,sharex=True,figsize=(20,10))\n",
    "ax1.plot(np.arange(len(pattern)),pattern, label=\"Synthetic Data\")\n",
    "ax1.set_ylabel('Signal', size=22)\n",
    "\n",
    "#Plot the Matrix Profile\n",
    "ax2.plot(np.arange(len(mp_adj)),mp_adj, label=\"Matrix Profile\", color='red')\n",
    "ax2.set_ylabel('Matrix Profile', size=22)\n",
    "ax2.set_xlabel('Sample', size=22)\n",
    "\n",
    "#Plot the CAC\n",
    "ax3.plot(np.arange(len(cac)),cac, label=\"CAC\", color='green')\n",
    "ax3.set_ylabel('CAC', size=22)\n",
    "ax3.set_xlabel('Sample', size=22)\n"
   ]
  }
 ],
 "metadata": {
  "kernelspec": {
   "display_name": "Python 3",
   "language": "python",
   "name": "python3"
  },
  "language_info": {
   "codemirror_mode": {
    "name": "ipython",
    "version": 3
   },
   "file_extension": ".py",
   "mimetype": "text/x-python",
   "name": "python",
   "nbconvert_exporter": "python",
   "pygments_lexer": "ipython3",
   "version": "3.6.3"
  }
 },
 "nbformat": 4,
 "nbformat_minor": 2
}
